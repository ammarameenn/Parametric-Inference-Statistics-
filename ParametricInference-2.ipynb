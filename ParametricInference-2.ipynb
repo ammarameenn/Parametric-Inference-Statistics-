{
 "cells": [
  {
   "cell_type": "markdown",
   "metadata": {},
   "source": [
    "# Parametric inference- part 2\n",
    "\n",
    "## This notebook contains the following\n",
    "\n",
    "* [Confidence intervals for the sample mean with t distribution](#Confidence-intervals-for-the-sample-mean-with-tt-distribution)\n",
    "* [Hypothesis testing for one-sample mean with T test](#Hypothesis-testing-for-one-sample-mean-with-t-test)\n",
    "* [Computing the power of a test](#Computing-the-power-of-a-test)\n",
    "* [Correcting for multiple tests](#Correcting-for-multiple-tests)\n",
    "* [Hypothesis testing for two-sample mean](#Hypothesis-testing-for-two-sample-mean)\n",
    "    * [Paired observations](#Paired-observations)\n",
    "    * [Independent (unpaired) observations](#Independent-(unpaired)-observations)"
   ]
  },
  {
   "cell_type": "markdown",
   "metadata": {},
   "source": [
    "## Confidence intervals for the sample mean with t distribution\n",
    "* As for the Z confidence interval for the proportion, we can compute _t_-confidence intervals for the sample mean (unknown $\\sigma$) both manually and automatically\n",
    "* The interval is given by: $\\bar{x} \\pm t_{\\alpha/2} SE$, where $SE=s/\\sqrt{n}$, $s$ is the sample stdev, and $t_{\\alpha/2}$ is the critical value of the $t$ distribution\n",
    "* The t-distribution is available in `scipy.stats` as the continuous RV class `t(df)`, where the argument `df` is the degrees of freedom\n",
    "* Here I am computing a CI for the mean age of a victim from a sample of the London murders dataset"
   ]
  },
  {
   "cell_type": "code",
   "execution_count": 1,
   "metadata": {},
   "outputs": [],
   "source": [
    "# imports\n",
    "import numpy as np\n",
    "import pandas as pd\n",
    "from scipy import stats\n",
    "import statsmodels.api as sm\n",
    "import matplotlib.pyplot as plt\n",
    "%matplotlib inline"
   ]
  },
  {
   "cell_type": "code",
   "execution_count": 2,
   "metadata": {},
   "outputs": [
    {
     "name": "stdout",
     "output_type": "stream",
     "text": [
      "Mean age is: 30.96\n"
     ]
    }
   ],
   "source": [
    "# reading the csv file and store it into pd dataframe\n",
    "df_murders = pd.read_csv(\"london_murders.csv\")\n",
    "n = 100\n",
    "# drawing a random sample of size 100\n",
    "df_murders_sample = df_murders.sample(n)\n",
    "\n",
    "alpha = 0.05\n",
    "# computing sample mean and st. err\n",
    "mean_age = np.mean(df_murders_sample.age)\n",
    "# IMPORTANT: by default, the number of degrees of freedom in the sample variance are n, \n",
    "# not n-1. The ddof parameter tells us how many fewer dof we have (in our case n-1, so 1)\n",
    "SE_age = np.std(df_murders_sample.age, ddof=1)/np.sqrt(n)\n",
    "print('Mean age is: '+str(mean_age))"
   ]
  },
  {
   "cell_type": "code",
   "execution_count": 3,
   "metadata": {},
   "outputs": [
    {
     "name": "stdout",
     "output_type": "stream",
     "text": [
      "CI for mean age is: [27.77388403 34.14611597]\n"
     ]
    }
   ],
   "source": [
    "# to compute CI manually, first derive the critical t score at alpha/2\n",
    "# which corresponds to the t value t_alpha_half s.t. P(T>=t_alpha_half)=alpha/2\n",
    "# we can derive this with the ppf/inverse CDF of the t distribution with n-1 DoF\n",
    "# (i.e. the continuous RV stats.t(n-1))\n",
    "t_alpha_half = stats.t(n-1).ppf(1-alpha/2)\n",
    "# or alternatively\n",
    "#t_alpha_half = -stats.t(n-1).ppf(alpha/2)\n",
    "\n",
    "# then compute the CI as\n",
    "ci_mean_age = mean_age + SE_age*t_alpha_half*np.array([-1,1])\n",
    "print('CI for mean age is: '+str(ci_mean_age))"
   ]
  },
  {
   "cell_type": "markdown",
   "metadata": {},
   "source": [
    "* `statsmodels` provides an \"automatic\" method to compute t-confidence intervals. \n",
    "* it is a bit more elaborate than `zconfint` \n",
    "    * it requires to create first a summary statistic object (class `DescrStatsW` of module `stats`)\n",
    "    * the interval is then computed on said object by invoking `tconfint_mean(self, alpha=0.05, alternative=\"two-sided\")` function\n",
    "    * see https://www.statsmodels.org/stable/generated/statsmodels.stats.weightstats.DescrStatsW.html for a list of attributes and functions of `DescrStatsW`"
   ]
  },
  {
   "cell_type": "code",
   "execution_count": 4,
   "metadata": {},
   "outputs": [
    {
     "data": {
      "text/plain": [
       "(27.7738840287763, 34.1461159712237)"
      ]
     },
     "execution_count": 4,
     "metadata": {},
     "output_type": "execute_result"
    }
   ],
   "source": [
    "# creating summary statistic object with statsmodels\n",
    "age_stats = sm.stats.DescrStatsW(df_murders_sample.age)\n",
    "age_stats.tconfint_mean(alpha=alpha)"
   ]
  },
  {
   "cell_type": "markdown",
   "metadata": {},
   "source": [
    "## Hypothesis testing for one-sample mean with T test\n",
    "\n",
    "* Now I want to perform HT for the mean age, using the T-test\n",
    "* Consider the same example of part-1 (where I used the Z test instead)\n",
    "* Assume that previous studies found that the mean age of a victim in London is 30. So $H_0: \\mu = 30$.\n",
    "* I want to test whether our data is consistent with $H_0$ with a two-sided T-test. So $H_a: \\mu \\neq 30$\n",
    "    * I.e., if the observed mean is significantly higher or lower the null value\n",
    "* Let's manually compute the test statistic ($\\frac{\\bar{x}-\\mu_0}{(s/\\sqrt{n})}$) and the p-value w.r.t. the sampling distribution under $H_0$ (t distribution with $n-1$ DoF)\n"
   ]
  },
  {
   "cell_type": "code",
   "execution_count": 5,
   "metadata": {},
   "outputs": [
    {
     "name": "stdout",
     "output_type": "stream",
     "text": [
      "test statistic: 0.5978590517898621\n",
      "p value: 0.5512991788157304\n"
     ]
    }
   ],
   "source": [
    "# test statistic\n",
    "mu_0 = 30\n",
    "t_stat = (mean_age - mu_0)/SE_age\n",
    "print('test statistic: '+str(t_stat))\n",
    "# sampling distribution under H0\n",
    "h0_dist = stats.t(n-1)\n",
    "\n",
    "# compute p-value for two-sided test\n",
    "left_p_val = h0_dist.cdf(t_stat) # P(t<=t_stat)\n",
    "right_p_val = 1-h0_dist.cdf(t_stat) # P(t>=t_stat)\n",
    "p_val = 2*np.min([left_p_val,right_p_val])\n",
    "print('p value: '+str(p_val))"
   ]
  },
  {
   "cell_type": "markdown",
   "metadata": {},
   "source": [
    "* To perform the test automatically, we can use the function `ttest_1samp` of `scipy.stats`. \n",
    "* The function takes in input:\n",
    "    * the sample observations &mdash; argument `a` \n",
    "    * the null value &mdash; argument `popmean` \n",
    "* and returns the t-statistic and corresponding p-value for a 2-sided test\n",
    "    * if need the p-value for the corresponding one-sided test, just divide it by two"
   ]
  },
  {
   "cell_type": "code",
   "execution_count": 7,
   "metadata": {},
   "outputs": [
    {
     "name": "stdout",
     "output_type": "stream",
     "text": [
      "test statistic: 0.5978590517898621\n",
      "p value: 0.5512991788157307\n"
     ]
    }
   ],
   "source": [
    "# performing test automatically with scipy.stats\n",
    "t_test_result = stats.ttest_1samp(a=df_murders_sample.age, popmean=mu_0, axis=0)\n",
    "print('test statistic: '+str(t_test_result.statistic))\n",
    "print('p value: '+str(t_test_result.pvalue))"
   ]
  },
  {
   "cell_type": "markdown",
   "metadata": {},
   "source": [
    "`statsmodels` also provides an automatic method, via function `ttest_mean` of class `DescrStatsW` which takes two arguments:\n",
    "* `value`, the null value\n",
    "* `alternative`, the direction of the alternative hypothesis (`'two-sided’` (default), `'larger’`, or `'smaller’`)"
   ]
  },
  {
   "cell_type": "code",
   "execution_count": 8,
   "metadata": {},
   "outputs": [
    {
     "name": "stdout",
     "output_type": "stream",
     "text": [
      "test statistic: 0.5978590517898621\n",
      "p value: 0.5512991788157307\n"
     ]
    }
   ],
   "source": [
    "# performing test automatically with statsmodels\n",
    "# we can re-use our DescrStatsW object age_stats defined above\n",
    "tstat_sm, pvalue_sm, df = age_stats.ttest_mean(value=mu_0,alternative='two-sided')\n",
    "print('test statistic: '+str(tstat_sm))\n",
    "print('p value: '+str(pvalue_sm))"
   ]
  },
  {
   "cell_type": "markdown",
   "metadata": {},
   "source": [
    "## Computing the power of a test\n",
    "* The power of a test is $1-\\beta$, i.e., the probability of correctly rejecting $H_0$, where $\\beta$ is the probability of a type 2 error (wrongly fail to reject $H_0$, aka false negative)\n",
    "* To compute the power, we need to assume a true value for the population parameter ($H_0$ is false)\n",
    "* We can compute power manually, and then show a function from `statsmodels`"
   ]
  },
  {
   "cell_type": "markdown",
   "metadata": {},
   "source": [
    "* Consider the above two-sided t-test for the mean age ($H_0: \\mu=\\mu_0=30$, $H_a: \\mu \\neq \\mu_0=30$).\n",
    "* Let's assume the true mean is $\\theta$. \n",
    "* Then, $1- \\beta$ is the probability of correctly rejecting $H_0$, i.e., the probability (assuming $\\mu=\\theta$) that the test statistic falls in either critical region of the $H_0$ distribution.\n",
    "* We saw that, for a two-sided test, power corresponds to $P(t+\\delta\\geq t_{\\alpha/2}) + P(t+\\delta\\leq -t_{\\alpha/2})$, which can be computed as $1-F(t_{\\alpha/2}-\\delta)+F(-t_{\\alpha/2}-\\delta)$, with $F$ being the CDF of the t-distribution with $n-1$ DoF, and $\\delta=\\frac{\\theta-\\mu_0}{s/\\sqrt{n}}$\n",
    "    * $\\frac{\\theta-\\mu_0}{s}$ is called Cohen's effect size"
   ]
  },
  {
   "cell_type": "code",
   "execution_count": 9,
   "metadata": {},
   "outputs": [
    {
     "data": {
      "text/plain": [
       "0.231766204553195"
      ]
     },
     "execution_count": 9,
     "metadata": {},
     "output_type": "execute_result"
    }
   ],
   "source": [
    "# for convenience, I am wrapping the definition in a function\n",
    "def two_sided_t_power(mu_0, mu_true, sample_std, n, alpha):\n",
    "    # critical value of test under H_0\n",
    "    t_alpha_2 = stats.t(n-1).ppf(1-alpha/2)\n",
    "    delta = (mu_true-mu_0)/(sample_std/np.sqrt(n))\n",
    "    return 1-stats.t(n-1).cdf(t_alpha_2-delta)+stats.t(n-1).cdf(-t_alpha_2-delta)\n",
    "# equivalent to setting the loc  parameter of t distribution to delta as follows\n",
    "# return 1-stats.t(n-1,loc=delta).cdf(t_alpha_2)+stats.t(n-1,loc=delta).cdf(-t_alpha_2)\n",
    "\n",
    "sample_std = np.std(df_murders_sample.age, ddof=1)\n",
    "n = df_murders_sample.age.size\n",
    "alpha = 0.05\n",
    "# assume the true value is 32, print the power value\n",
    "two_sided_t_power(30, 32, sample_std, n, alpha)"
   ]
  },
  {
   "cell_type": "markdown",
   "metadata": {},
   "source": [
    "* Below is how the power of our t-test changes for different assumed true values\n",
    "* The resulting plot is called ___power curve___, where on x-axis there are the assumed true values, and on the y-axis the corresponding power"
   ]
  },
  {
   "cell_type": "code",
   "execution_count": 10,
   "metadata": {},
   "outputs": [
    {
     "data": {
      "image/png": "[encoded data removed]",
      "text/plain": [
       "<Figure size 432x288 with 1 Axes>"
      ]
     },
     "metadata": {
      "needs_background": "light"
     },
     "output_type": "display_data"
    }
   ],
   "source": [
    "# plotting a power curve for different assumed true values (a range between 10 and 50)\n",
    "mu_trues = np.arange(10, 50, 0.1)\n",
    "# Here need to vectorize our function so that it works for arrays\n",
    "two_sided_t_power_vec = np.vectorize(two_sided_t_power)\n",
    "# plot on the x-axis the assumed true values, on the y-axis the corresponding power\n",
    "plt.plot(mu_trues, two_sided_t_power_vec(30, mu_trues, sample_std, n, alpha))\n",
    "plt.show()"
   ]
  },
  {
   "cell_type": "markdown",
   "metadata": {},
   "source": [
    "* The `statsmodels` package has a function that can automatically compute the power of a t-test, called `tt_solve_power` (see also https://www.statsmodels.org/dev/generated/statsmodels.stats.power.tt_solve_power.html) \n",
    "* In particular, it takes _all but one_ of \n",
    "    * (Cohen's) effect size, `effect_size`\n",
    "    * sample size, `nobs`\n",
    "    * $\\alpha$, `alpha`\n",
    "    * $1-\\beta$, `power`\n",
    "and automatically computes the missing parameter.\n",
    "* note that the power values will be slightly different from our implementation (`statsmodels` use the _non-central t distribution_ to compute probabilities, rather than a shifted t distribution like we do (the non-central t is the correct one but I didn't want to put too much meat on your plates))\n",
    "* also note that sometimes `tt_solve_power` can fail and throw an exception, so it's not your fault if that happens :)"
   ]
  },
  {
   "cell_type": "code",
   "execution_count": 11,
   "metadata": {},
   "outputs": [
    {
     "data": {
      "text/plain": [
       "0.23447241121695794"
      ]
     },
     "execution_count": 11,
     "metadata": {},
     "output_type": "execute_result"
    }
   ],
   "source": [
    "# Computing the power for theta=32 of the above test\n",
    "# Here need to compute cohen's effect size on our own though\n",
    "c_eff_size = (32-30)/sample_std\n",
    "sm.stats.tt_solve_power(effect_size=c_eff_size, nobs=n, alpha=alpha, alternative='two-sided')"
   ]
  },
  {
   "cell_type": "markdown",
   "metadata": {},
   "source": [
    "With `tt_solve_power` we can do more interesting things. For instance, we can compute what's the required value of $n$ to obtain an arbitrary power value and for arbitrary effect size and $\\alpha$"
   ]
  },
  {
   "cell_type": "code",
   "execution_count": 13,
   "metadata": {},
   "outputs": [
    {
     "data": {
      "text/plain": [
       "44"
      ]
     },
     "execution_count": 13,
     "metadata": {},
     "output_type": "execute_result"
    }
   ],
   "source": [
    "# let's see what the required n to obtain power=90% with effect size of 0.5\n",
    "# n is integer, so we take the ceiling\n",
    "int(np.ceil(sm.stats.tt_solve_power(effect_size=0.5, power=0.9, alpha=0.05, alternative='two-sided')))"
   ]
  },
  {
   "cell_type": "markdown",
   "metadata": {},
   "source": [
    "## Correcting for multiple tests\n",
    "* With multiple tests, there is a need to correct the significance of the individual tests if we desire a given overall $\\alpha$ (aka family-wise error rate)\n",
    "* `statsmodels` provides a function `multipletests` for correcting the p-values of multiple tests a posteriori, based on a variety of methods (see https://www.statsmodels.org/dev/generated/statsmodels.stats.multitest.multipletests.html for more details)\n",
    "* it takes in input an array of p-values (one p-value per test), the desired overall significance $\\alpha$, and the kind of method to use, and returns, \n",
    "    * for each p-value/test, whether or that can be rejected for the given $\\alpha$\n",
    "    * corrected p-values\n",
    "    * corrected $\\alpha$s to use in individual tests "
   ]
  },
  {
   "cell_type": "code",
   "execution_count": 14,
   "metadata": {},
   "outputs": [
    {
     "name": "stdout",
     "output_type": "stream",
     "text": [
      "tests rejected? [False  True False]\n",
      "corrected p-values (which we can check against non-corrected alpha) [0.3  0.03 0.06]\n",
      "Bonferroni-based correction for alpha (which we can check against non-corrected p-values) 0.016666666666666666\n"
     ]
    }
   ],
   "source": [
    "# here are three tests, with p-values 0.1, 0.01, and 0.02, respectively\n",
    "# and I am using the bonferroni method to correct these p-values\n",
    "rejected, correct_pvals, _, correct_alpha_bonf = sm.stats.multipletests([0.1,0.01,0.02], alpha=0.05, method='bonferroni')\n",
    "print(\"tests rejected? \"+str(rejected))\n",
    "print(\"corrected p-values (which we can check against non-corrected alpha) \"+str(correct_pvals))\n",
    "print(\"Bonferroni-based correction for alpha (which we can check against non-corrected p-values) \"+str(correct_alpha_bonf))"
   ]
  },
  {
   "cell_type": "markdown",
   "metadata": {},
   "source": [
    "## Hypothesis testing for two-sample mean"
   ]
  },
  {
   "cell_type": "markdown",
   "metadata": {},
   "source": [
    "### Paired observations\n",
    "* With paired observations, we can directly compute pairwise differences and do inference directly on those, as in a regular 1-sample test\n",
    "* let's see a quick example using the CDC BRFSS survey dataset, where we have, for each individual, two variables, weight and desired weight. \n",
    "* We can do a paired T test on the mean difference between the two, and compute corresponding confidence intervals"
   ]
  },
  {
   "cell_type": "code",
   "execution_count": 15,
   "metadata": {},
   "outputs": [],
   "source": [
    "# loading the CDC BRFSS survey dataset and take a random sample of 50 observations\n",
    "df_cdc = pd.read_csv(\"cdc.csv\")\n",
    "n_cdc = 50\n",
    "df_cdc_sample = df_cdc.sample(n_cdc)\n",
    "# computing the pairwise differences between weight and wtdesire\n",
    "w_diff = df_cdc_sample.weight-df_cdc_sample.wtdesire"
   ]
  },
  {
   "cell_type": "code",
   "execution_count": 16,
   "metadata": {},
   "outputs": [
    {
     "name": "stdout",
     "output_type": "stream",
     "text": [
      "p-value is: 1.8884380644060875e-06\n",
      "(8.130911665858703, 17.749088334141298)\n"
     ]
    }
   ],
   "source": [
    "# let's use statsmodels for this. \n",
    "# recall we need to create first a summary statistic object\n",
    "w_diff_stats = sm.stats.DescrStatsW(w_diff)\n",
    "\n",
    "# test the null hypothesis that there is no difference (i.e., mean difference = 0)\n",
    "tstat_wdiff, pvalue_wdiff, _ = w_diff_stats.ttest_mean(value=0, alternative='two-sided')\n",
    "print('p-value is: '+str(pvalue_wdiff))\n",
    "\n",
    "# and we can compute a (1-alpha)-confidence interval for the mean difference\n",
    "alpha = 0.05\n",
    "print(w_diff_stats.tconfint_mean(alpha=alpha))"
   ]
  },
  {
   "cell_type": "markdown",
   "metadata": {},
   "source": [
    "### Independent (unpaired) observations\n",
    "We will now look into unpaired two-sample T tests, to evaluate the differences of two sample means. \n",
    "* `statsmodels.stats` has a convenient class called `CompareMeans` (see https://www.statsmodels.org/dev/generated/statsmodels.stats.weightstats.CompareMeans.html). `CompareMeans` takes in input two instances of `DescrStatsW` (see above) representing the two samples\n",
    "* This class includes function `ttest_ind` for performing unpaired two-sample T tests, aka Welch's T test (`ind` stands for independent samples, i.e., unpaired) &mdash; `scipy.stats` has a similar function but supports only two-sided tests\n",
    "    * `ttest_ind` takes in input the parameter `usevar`, which can be equal to `pooled` (in case the variances of the two populations are the same), or `unequal` (otherwise, i.e., as in the Welch T test)\n",
    "* Let's see it in action. Using the london murders dataset, let's establish whether there is a significant difference between the ages of victims in 2007 and 2010."
   ]
  },
  {
   "cell_type": "code",
   "execution_count": 18,
   "metadata": {},
   "outputs": [
    {
     "name": "stdout",
     "output_type": "stream",
     "text": [
      "Mean victim age in 2007 is 33.06\n",
      "Mean victim age in 2010 is 37.8\n"
     ]
    }
   ],
   "source": [
    "# selecting a sample of 50 individuals from 2007 and 2010 victims\n",
    "n = 50\n",
    "sample_2007 = df_murders[df_murders.year==2007].sample(n)\n",
    "sample_2010 = df_murders[df_murders.year==2010].sample(n)\n",
    "# printing the sample means, just for curiosity\n",
    "print(\"Mean victim age in 2007 is \" + str(np.mean(sample_2007.age)))\n",
    "print(\"Mean victim age in 2010 is \" + str(np.mean(sample_2010.age)))"
   ]
  },
  {
   "cell_type": "code",
   "execution_count": 19,
   "metadata": {},
   "outputs": [
    {
     "name": "stdout",
     "output_type": "stream",
     "text": [
      "Value of T statistic -1.235502375672922\n",
      "P-value 0.21988181004536697\n",
      "Degrees of freedom 89.3625234977435\n"
     ]
    }
   ],
   "source": [
    "# creating the two DescrStatsW instances\n",
    "age_2007_stats = sm.stats.DescrStatsW(sample_2007.age)\n",
    "age_2010_stats = sm.stats.DescrStatsW(sample_2010.age)\n",
    "# creating a CompareMeans instance with the two samples above\n",
    "comp_means_instance = sm.stats.CompareMeans(age_2007_stats,age_2010_stats)\n",
    "\n",
    "# invoking the ttest_ind function\n",
    "# \"direction\" of the test is \"two-sided\" by default, so we don't specify it here\n",
    "# one can also set a null value for the hypothesized true difference of means, which by default is zero\n",
    "# it returns the t statistic, p-value and df (recall, df for Welch test is not trivial)\n",
    "tstat, pval, df  = comp_means_instance.ttest_ind(usevar='unequal')\n",
    "print('Value of T statistic ' + str(tstat))\n",
    "print('P-value ' + str(pval))\n",
    "print('Degrees of freedom ' + str(df))"
   ]
  },
  {
   "cell_type": "markdown",
   "metadata": {},
   "source": [
    "The same `CompareMeans` instance can be used to derive a confidence interval for the difference of the two means with the function `tconfint_diff`"
   ]
  },
  {
   "cell_type": "code",
   "execution_count": 20,
   "metadata": {},
   "outputs": [
    {
     "data": {
      "text/plain": [
       "(-14.837545772665298, 5.357545772665308)"
      ]
     },
     "execution_count": 20,
     "metadata": {},
     "output_type": "execute_result"
    }
   ],
   "source": [
    "alpha = 0.01\n",
    "comp_means_instance.tconfint_diff(alpha=alpha,usevar='unequal')"
   ]
  },
  {
   "cell_type": "markdown",
   "metadata": {},
   "source": [
    "* `statsmodels` has a function, `tt_ind_solve_power`, for computing power/effect size/etc also for two-sample tests\n",
    "    * the equivalent of `tt_solve_power`. \n",
    "* In particular, it takes all but one of: effect size, size of sample 1 $n_1$, `ratio`, $\\alpha$, $1-\\beta$, and automatically computes the missing parameter. \n",
    "    * size of sample 2 is derived from $n_1$ and `ratio` as $n_2 = n_1 \\cdot$`ratio`\n",
    "\n",
    "* note that this implementation only supports pooled variance, i.e., it works under the assumption that the two populations have same variance\n",
    "* and so, the function expects to work with Cohen's effect sizes defined as $d=\\frac{\\theta}{s_p}$, where $\\theta$ is the assumed true value for $\\mu_1-\\mu_2$ and $s^2_p$ is the so-called pooled variance (estimation of common variance of the two populations) and is defined as (see also https://en.wikipedia.org/wiki/Pooled_variance): \n",
    "$$s^2_p=\\frac{(n_1-1)s_1^2 + (n_2-1)s_2^2}{n_1+n_2-2}$$\n",
    "    "
   ]
  },
  {
   "cell_type": "code",
   "execution_count": 21,
   "metadata": {},
   "outputs": [
    {
     "name": "stdout",
     "output_type": "stream",
     "text": [
      "effect size: -0.6625416123406963\n",
      "corresponding true mu_1-mu_2 is -12.709191436335514\n"
     ]
    }
   ],
   "source": [
    "# let's compute now the value of Cohen's effect size required for a 1-sided test \n",
    "# to achieve a power of 95%, with alpha = 0.05, and current n1 and ratio, \n",
    "n_2007 = sample_2007.shape[0]\n",
    "n_2010 = sample_2010.shape[0]\n",
    "cohens_d = sm.stats.tt_ind_solve_power(effect_size=None, nobs1=n_2007, alpha=0.05, \n",
    "                                  power=0.95, ratio=n_2010/n_2007, alternative='smaller')\n",
    "\n",
    "print(\"effect size: \"+str(cohens_d))\n",
    "# in this case d = (theta=\"assumed true value for mu_1-mu_2\")/(pooled standard deviation)\n",
    "# if we want to derive the corresponding value of theta, \n",
    "# we need to compute the pooled standard deviation and multiply it to d\n",
    "pooled_variance = ((n_2007-1)*np.var(sample_2007.age, ddof=1)+(n_2010-1)*np.var(sample_2010.age, ddof=1))/(n_2007+n_2010-2)\n",
    "print(\"corresponding true mu_1-mu_2 is \"+str(cohens_d*np.sqrt(pooled_variance)))"
   ]
  },
  {
   "cell_type": "code",
   "execution_count": null,
   "metadata": {},
   "outputs": [],
   "source": []
  }
 ],
 "metadata": {
  "kernelspec": {
   "display_name": "Python 3 (ipykernel)",
   "language": "python",
   "name": "python3"
  },
  "language_info": {
   "codemirror_mode": {
    "name": "ipython",
    "version": 3
   },
   "file_extension": ".py",
   "mimetype": "text/x-python",
   "name": "python",
   "nbconvert_exporter": "python",
   "pygments_lexer": "ipython3",
   "version": "3.9.7"
  }
 },
 "nbformat": 4,
 "nbformat_minor": 4
}
