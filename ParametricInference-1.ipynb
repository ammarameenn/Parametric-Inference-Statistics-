{
 "cells": [
  {
   "cell_type": "markdown",
   "metadata": {},
   "source": [
    "# Parametric Inference &mdash; part 1\n",
    "\n",
    "In this notebook using a library, `statsmodels` for statistical tests and analysis\n",
    "\n",
    "## Roadmap\n",
    "* [Sampling distributions and normal approximation](#Sampling-distributions-and-normal-approximation)\n",
    "* [Confidence intervals with Z distribution](#Confidence-intervals-with-Z-distribution)\n",
    "    * [Confidence interval for proportion](#Confidence-interval-for-proportion)\n",
    "    * [Confidence interval for the mean](#Confidence-interval-for-the-mean)\n",
    "    * [Correct intepretation of CIs](#Correct-interpretation-of-CIs)\n",
    "* [Hypothesis testing for one-sample mean](#Hypothesis-testing-for-one-sample-mean)\n",
    "* [Binomial test](#Binomial-test)\n",
    "    * [Binomial confidence intervals](#Binomial-confidence-intervals)\n"
   ]
  },
  {
   "cell_type": "markdown",
   "metadata": {},
   "source": [
    "## Sampling distributions and normal approximation\n",
    "* CLT provides a good (and theoretically sound) approximation of the sampling distribution of the sample mean (or sum)\n",
    "* Here is the comparison of the CLT distribution with the empirical sampling distribution of the mean for the (continuous) uniform distribution\n",
    "    * consider the uniform distribution over the interval [0,10], denoted $\\mathcal{U}(0,10)$\n",
    "    * the default uniform RV object is over [0,1], but can be modified using `loc` and `scale` parameters into [`loc`,`loc`+`scale`]"
   ]
  },
  {
   "cell_type": "code",
   "execution_count": 1,
   "metadata": {},
   "outputs": [
    {
     "data": {
      "image/png": "[encoded data removed]",
      "text/plain": [
       "<Figure size 432x288 with 1 Axes>"
      ]
     },
     "metadata": {
      "needs_background": "light"
     },
     "output_type": "display_data"
    }
   ],
   "source": [
    "import numpy as np\n",
    "from scipy import stats\n",
    "import matplotlib.pyplot as plt\n",
    "import seaborn as sns\n",
    "%matplotlib inline\n",
    "\n",
    "# consider a uniform distribution with endpoints 0 and 10\n",
    "my_unif = stats.uniform(loc=0, scale=10)\n",
    "\n",
    "# plotting the pdf\n",
    "x = np.arange(-2,12,0.01)\n",
    "plt.plot(x, my_unif.pdf(x))\n",
    "plt.show()"
   ]
  },
  {
   "cell_type": "code",
   "execution_count": 2,
   "metadata": {},
   "outputs": [
    {
     "data": {
      "image/png": "[encoded data removed]",
      "text/plain": [
       "<Figure size 432x288 with 1 Axes>"
      ]
     },
     "metadata": {
      "needs_background": "light"
     },
     "output_type": "display_data"
    }
   ],
   "source": [
    "# Drawing 1000 uniform samples, each of size 50\n",
    "sample_num = 1000\n",
    "sample_size = 50\n",
    "\n",
    "# initializing a numpy array of size (sample_num, sample_size) to store the samples\n",
    "samples = np.empty([sample_num, sample_size])\n",
    "\n",
    "# Drawing the samples by calling the rvs function\n",
    "for i in range(sample_num):\n",
    "    samples[i,:] = my_unif.rvs(size=sample_size)\n",
    "    \n",
    "# plotting one of the samples (say the 111-th) using a dotplot\n",
    "plt.scatter(samples[110,:], np.zeros(sample_size))\n",
    "ax = plt.gca()\n",
    "ax.get_yaxis().set_visible(False)\n",
    "plt.show()"
   ]
  },
  {
   "cell_type": "code",
   "execution_count": 3,
   "metadata": {},
   "outputs": [
    {
     "name": "stderr",
     "output_type": "stream",
     "text": [
      "C:\\ProgramData\\Anaconda3\\lib\\site-packages\\seaborn\\distributions.py:2619: FutureWarning: `distplot` is a deprecated function and will be removed in a future version. Please adapt your code to use either `displot` (a figure-level function with similar flexibility) or `histplot` (an axes-level function for histograms).\n",
      "  warnings.warn(msg, FutureWarning)\n",
      "C:\\ProgramData\\Anaconda3\\lib\\site-packages\\seaborn\\_decorators.py:36: FutureWarning: Pass the following variables as keyword args: x, y. From version 0.12, the only valid positional argument will be `data`, and passing other arguments without an explicit keyword will result in an error or misinterpretation.\n",
      "  warnings.warn(\n"
     ]
    },
    {
     "data": {
      "image/png": "[encoded data removed]",
      "text/plain": [
       "<Figure size 432x288 with 1 Axes>"
      ]
     },
     "metadata": {
      "needs_background": "light"
     },
     "output_type": "display_data"
    }
   ],
   "source": [
    "# Computing the sample means for the samples\n",
    "means = np.mean(samples, axis=1) # row-wise\n",
    "\n",
    "# computing the normal approximation of the sampling distribution as per the CLT\n",
    "# the mean of the normal approx. is the mean of U(0,10) (which is 5), \n",
    "#     and its standard deviation is given by the SE of the mean \n",
    "#     (i.e., the standard deviation of U(0,10) over sqrt of n)\n",
    "SE = my_unif.std()/np.sqrt(sample_size)\n",
    "normal_approx = stats.norm(loc=my_unif.mean(), scale=SE)\n",
    "\n",
    "# plotting frequency histogram of the empirical sampling distribution (i.e., the distribution of 'means')\n",
    "#     and overlay normal approximation\n",
    "sns.distplot(means, kde=False, norm_hist=True)\n",
    "x = np.arange(0,10,0.001)\n",
    "sns.lineplot(x, normal_approx.pdf(x))\n",
    "plt.show()"
   ]
  },
  {
   "cell_type": "markdown",
   "metadata": {},
   "source": [
    "## Confidence intervals with Z distribution\n",
    "\n",
    "### Confidence interval for proportion\n",
    "* Compute a Z confidence interval for a proportion manually, i.e., by using the sample proportion and the CI halfwidths computed via the inverse cdf (aka ppf) of the Z distribution (standard normal).\n",
    "* For significance $\\alpha \\in (0,1)$, the $(1-\\alpha)$-CI for a proportion (using the normal approximation) is given by $$\\left[\\hat{p}\\pm z_{\\alpha/2}\\sqrt{\\frac{\\hat{p}(1-\\hat{p})}{n}}\\right]$$\n",
    "where $z_{\\alpha/2}$ is the critical value at level $\\alpha/2$, i.e., such that $P(X\\geq z_{\\alpha/2})=\\alpha/2$ for $X\\sim \\mathcal{N}(0,1)$, i.e., $z_{\\alpha/2}$ is the value of the inverse CDF at probability $1-\\alpha/2$\n"
   ]
  },
  {
   "cell_type": "markdown",
   "metadata": {},
   "source": [
    "Here the dataset of murder statistics in the greater London area (available [here](https://www.openintro.org/stat/data.php?data=london_murders)) is used. The dataset contains the victim name, age, and location of every murder recorded in the Greater London area by the Metropolitan Police from January 1, 2006 to September 7, 2011. \n",
    "\n",
    "Variables are:\n",
    "* forename - First name(s) of the victim.\n",
    "* age - Age of the victim.\n",
    "* date - Date of the murder (YYYY-MM-DD).\n",
    "* year - Year of the murder.\n",
    "* borough - The London borough in which the murder took place. "
   ]
  },
  {
   "cell_type": "code",
   "execution_count": 4,
   "metadata": {},
   "outputs": [
    {
     "data": {
      "text/html": [
       "<div>\n",
       "<style scoped>\n",
       "    .dataframe tbody tr th:only-of-type {\n",
       "        vertical-align: middle;\n",
       "    }\n",
       "\n",
       "    .dataframe tbody tr th {\n",
       "        vertical-align: top;\n",
       "    }\n",
       "\n",
       "    .dataframe thead th {\n",
       "        text-align: right;\n",
       "    }\n",
       "</style>\n",
       "<table border=\"1\" class=\"dataframe\">\n",
       "  <thead>\n",
       "    <tr style=\"text-align: right;\">\n",
       "      <th></th>\n",
       "      <th>forename</th>\n",
       "      <th>age</th>\n",
       "      <th>date</th>\n",
       "      <th>year</th>\n",
       "      <th>borough</th>\n",
       "    </tr>\n",
       "  </thead>\n",
       "  <tbody>\n",
       "    <tr>\n",
       "      <th>0</th>\n",
       "      <td>Barrington Derrick</td>\n",
       "      <td>19</td>\n",
       "      <td>2006-01-02</td>\n",
       "      <td>2006</td>\n",
       "      <td>Hackney</td>\n",
       "    </tr>\n",
       "    <tr>\n",
       "      <th>1</th>\n",
       "      <td>Aaron</td>\n",
       "      <td>24</td>\n",
       "      <td>2006-01-02</td>\n",
       "      <td>2006</td>\n",
       "      <td>Lewisham</td>\n",
       "    </tr>\n",
       "    <tr>\n",
       "      <th>2</th>\n",
       "      <td>Christopher</td>\n",
       "      <td>22</td>\n",
       "      <td>2006-01-03</td>\n",
       "      <td>2006</td>\n",
       "      <td>Hillingdon</td>\n",
       "    </tr>\n",
       "    <tr>\n",
       "      <th>3</th>\n",
       "      <td>Thomas Philip</td>\n",
       "      <td>18</td>\n",
       "      <td>2006-01-04</td>\n",
       "      <td>2006</td>\n",
       "      <td>Camden</td>\n",
       "    </tr>\n",
       "    <tr>\n",
       "      <th>4</th>\n",
       "      <td>Amanda</td>\n",
       "      <td>26</td>\n",
       "      <td>2006-01-04</td>\n",
       "      <td>2006</td>\n",
       "      <td>Camden</td>\n",
       "    </tr>\n",
       "  </tbody>\n",
       "</table>\n",
       "</div>"
      ],
      "text/plain": [
       "             forename  age        date  year     borough\n",
       "0  Barrington Derrick   19  2006-01-02  2006     Hackney\n",
       "1               Aaron   24  2006-01-02  2006    Lewisham\n",
       "2         Christopher   22  2006-01-03  2006  Hillingdon\n",
       "3       Thomas Philip   18  2006-01-04  2006      Camden\n",
       "4              Amanda   26  2006-01-04  2006      Camden"
      ]
     },
     "execution_count": 4,
     "metadata": {},
     "output_type": "execute_result"
    }
   ],
   "source": [
    "import numpy as np\n",
    "import pandas as pd\n",
    "from scipy import stats\n",
    "\n",
    "# reading the csv file and store it into pd dataframe\n",
    "df_murders = pd.read_csv(\"london_murders.csv\")\n",
    "\n",
    "# Head function to see a preview of the top-most rows\n",
    "df_murders.head()"
   ]
  },
  {
   "cell_type": "markdown",
   "metadata": {},
   "source": [
    "computing a CI (with normal approx.) for the probability of a victim being younger than 18 for a random sample of 100 observations"
   ]
  },
  {
   "cell_type": "code",
   "execution_count": 5,
   "metadata": {},
   "outputs": [
    {
     "name": "stdout",
     "output_type": "stream",
     "text": [
      "sample proportion is 0.1\n",
      "critical Z score is: 1.959963984540054\n",
      "confidence interval is: [0.04120108 0.15879892]\n"
     ]
    }
   ],
   "source": [
    "n = 100\n",
    "# let's fix a value for alpha\n",
    "alpha = 0.05\n",
    "\n",
    "# drawing a random sample of size n\n",
    "df_murders_sample = df_murders.sample(n)\n",
    "# computing sample proportion of under 18\n",
    "prop_below_18 = np.mean(df_murders_sample.age<18)\n",
    "print('sample proportion is '+str(prop_below_18))\n",
    "\n",
    "# standard error \n",
    "se_below_18 = np.sqrt(prop_below_18*(1-prop_below_18)/n)\n",
    "# z_{alpha/2} via ppf of standard normal\n",
    "z_val_below_18 = stats.norm.ppf(1-alpha/2)\n",
    "# or equivalently\n",
    "# z_val_below_18 = -stats.norm.ppf(alpha/2)\n",
    "print('critical Z score is: '+str(z_val_below_18))\n",
    "\n",
    "# computing and printing confidence interval\n",
    "ci_below_18_approx = prop_below_18 + z_val_below_18*se_below_18*np.array([-1,1])\n",
    "print('confidence interval is: '+str(ci_below_18_approx))"
   ]
  },
  {
   "cell_type": "markdown",
   "metadata": {},
   "source": [
    "* Or, the confidence interval could have been computed \"automatically\" using the `statsmodels` package.\n",
    "* The relevant function is called `proportion_confint` of the `stats` module of `statsmodels`. It takes in input: \n",
    "    * `count`, the number of successes ($n\\hat{p}$)\n",
    "    * `nobs`, the number of trials ($n$)\n",
    "    * `alpha=0.05`, the significance level (default to 0.05) and \n",
    "    * `method='normal'`, the method used to compute the interval (default with normal approximation). Other methods are available, see https://www.statsmodels.org/dev/generated/statsmodels.stats.proportion.proportion_confint.html   "
   ]
  },
  {
   "cell_type": "code",
   "execution_count": 6,
   "metadata": {},
   "outputs": [
    {
     "name": "stdout",
     "output_type": "stream",
     "text": [
      "(0.04120108046379837, 0.15879891953620165)\n"
     ]
    }
   ],
   "source": [
    "import statsmodels.api as sm\n",
    "print(sm.stats.proportion_confint(\n",
    "    count=n*prop_below_18, nobs=n, alpha=alpha))"
   ]
  },
  {
   "cell_type": "markdown",
   "metadata": {},
   "source": [
    "### Confidence interval for the mean\n",
    "* Computing Z confidence interval for the mean\n",
    "* The interval is given by $\\left[\\bar{x}_n \\pm z_{\\alpha/2} SE\\right]$ where $\\bar{x}_n$ is the sample mean and $SE=\\sigma/\\sqrt{n}$.\n",
    "* When $n$ is large enough we can replace (unknown true) $\\sigma$ with sample standard deviation $s$.\n",
    "* Let's compute a CI for the mean age of a victim from our sample"
   ]
  },
  {
   "cell_type": "code",
   "execution_count": 7,
   "metadata": {},
   "outputs": [
    {
     "name": "stdout",
     "output_type": "stream",
     "text": [
      "Sample mean of age is: 32.53\n",
      "CI for age is: [29.25728695 35.80271305]\n"
     ]
    }
   ],
   "source": [
    "# computing sample mean and standard error for the sample drawn above\n",
    "mean_age = np.mean(df_murders_sample.age)\n",
    "print('Sample mean of age is: '+str(mean_age))\n",
    "\n",
    "# IMPORTANT: by default, the number of degrees of freedom in the sample variance are n, \n",
    "# not n-1. The ddof parameter tells us how many fewer dof we have (in our case n-1, so 1)\n",
    "SE_age = np.std(df_murders_sample.age, ddof=1)/np.sqrt(n)\n",
    "\n",
    "# computing the CI manually, using the ppf of the z distribution (similar to above)\n",
    "ci_mean_age = mean_age + SE_age*stats.norm.ppf(1-alpha/2)*np.array([-1,1])\n",
    "print('CI for age is: '+str(ci_mean_age))"
   ]
  },
  {
   "cell_type": "markdown",
   "metadata": {},
   "source": [
    "Similarly for the proportion case, `statsmodels` provides an \"automatic\" method via function `zconfint` to compute the z-CI. It simply takes in input the sample and the level $\\alpha$ (there are other parameters that we can ignore for now, see https://www.statsmodels.org/dev/generated/statsmodels.stats.weightstats.zconfint.html#statsmodels.stats.weightstats.zconfint)"
   ]
  },
  {
   "cell_type": "code",
   "execution_count": 8,
   "metadata": {},
   "outputs": [
    {
     "name": "stdout",
     "output_type": "stream",
     "text": [
      "(29.257286948600502, 35.8027130513995)\n"
     ]
    }
   ],
   "source": [
    "print(sm.stats.zconfint(df_murders_sample.age, alpha=alpha))"
   ]
  },
  {
   "cell_type": "markdown",
   "metadata": {},
   "source": [
    "### Correct interpretation of CIs\n",
    "* \"$(1-\\alpha)$ confidence\" means that if we repeatedly built CIs for multiple random samples, then about $(1-\\alpha)$ of the built CIs will contain the true parameter.\n",
    "* Let's see this in action: generating random normal samples with known mean, computing a CI for each, and see how often the true parameter falls in the CI\n"
   ]
  },
  {
   "cell_type": "code",
   "execution_count": 9,
   "metadata": {},
   "outputs": [
    {
     "name": "stdout",
     "output_type": "stream",
     "text": [
      "Empirical confidence: 0.945\n"
     ]
    }
   ],
   "source": [
    "n_samples = 1000 # number of samples\n",
    "sample_size = 50 # sample size\n",
    "# suppose the true (unknown) population distribution is a normal with mean 11 and stdev 3\n",
    "mu = 11\n",
    "sigma = 3\n",
    "my_norm = stats.norm(loc=mu, scale=sigma)\n",
    "alpha = 0.05\n",
    "# variable to count how many times the true mu is inside the CI\n",
    "param_inside_CI = 0\n",
    "# for each sample\n",
    "for i in range(n_samples): \n",
    "    # drawing the normal sample\n",
    "    norm_sample = my_norm.rvs(sample_size)  \n",
    "    # computing CI based on Z distribution (and plugging sample stdev instead of sigma)\n",
    "    sample_mean = np.mean(norm_sample)\n",
    "    std_err = np.std(norm_sample, ddof=1)/np.sqrt(sample_size)\n",
    "    ci_mean = sample_mean + std_err*stats.norm.ppf(1-alpha/2)*np.array([-1,1])\n",
    "    # or this could be done directly with statsmodels' automatic method\n",
    "    # ci_mean = sm.stats.zconfint(norm_sample, alpha=alpha)\n",
    "    \n",
    "    # check if the true mu is inside the CI\n",
    "    param_inside_CI+=(mu>=ci_mean[0] and mu<=ci_mean[1])\n",
    "\n",
    "# It is expected to be close to 1-alpha = 0.95\n",
    "print('Empirical confidence: '+ str(param_inside_CI/n_samples))"
   ]
  },
  {
   "cell_type": "markdown",
   "metadata": {},
   "source": [
    "## Hypothesis testing for one-sample mean\n",
    "\n",
    "* Now HT for the mean age, using the Z-test\n",
    "* Assume that previous studies found that the mean age of a victim in London is 30. So $H_0: \\mu = 30$.\n",
    "* We want to test whether our data is consistent with $H_0$ with a two-sided Z-test. So $H_a: \\mu \\neq 30$\n",
    "    * I.e., if the observed mean is significantly higher or lower the null value\n",
    "* Let's manually compute the test statistic ($\\frac{\\bar{x}_n-\\mu_0}{(s/\\sqrt{n})}$) and the p-value w.r.t. the sampling distribution under $H_0$ (z distribution $\\mathcal{N}(0,1)$)\n"
   ]
  },
  {
   "cell_type": "code",
   "execution_count": 10,
   "metadata": {},
   "outputs": [
    {
     "name": "stdout",
     "output_type": "stream",
     "text": [
      "test statistic: 1.5151676309555657\n",
      "p value: 0.12972995805883158\n"
     ]
    }
   ],
   "source": [
    "# test statistic\n",
    "mu_0 = 30\n",
    "# SE age was computed previously\n",
    "z_val = (mean_age - mu_0)/SE_age\n",
    "print('test statistic: '+str(z_val))\n",
    "# distribution under H0\n",
    "h0_dist = stats.norm\n",
    "\n",
    "# computing p-value for two-sided test\n",
    "left_p_val = h0_dist.cdf(z_val) # P(Z<=z_val)\n",
    "right_p_val = 1-h0_dist.cdf(z_val) # P(Z>=z_val)\n",
    "p_val = 2*np.min([left_p_val,right_p_val])\n",
    "print('p value: '+str(p_val))"
   ]
  },
  {
   "cell_type": "markdown",
   "metadata": {},
   "source": [
    "`statsmodels` provides an automated method to perform z tests. It takes in input:\n",
    "* `x1`, the sample\n",
    "* `value`, the null value\n",
    "* `alternative='two-sided'`, the direction of the test (or, `alternative='larger'` for one-sided right-tailed, `alternative='smaller'` for one-sided left-tailed)\n",
    "* (there are other parameters that we can ignore for now, see https://www.statsmodels.org/dev/generated/statsmodels.stats.weightstats.ztest.html#statsmodels.stats.weightstats.ztest).\n",
    "It returns the value of the test statistic and the corresponding p value."
   ]
  },
  {
   "cell_type": "code",
   "execution_count": 11,
   "metadata": {},
   "outputs": [
    {
     "name": "stdout",
     "output_type": "stream",
     "text": [
      "test statistic: 1.515167630955566\n",
      "p value: 0.12972995805883147\n"
     ]
    }
   ],
   "source": [
    "# or, alternative='larger' for one-sided right-tailed, alternative='smaller' for one-sided left-tailed\n",
    "t_value, p_value = sm.stats.ztest(df_murders_sample.age, value=mu_0,alternative='two-sided')\n",
    "print('test statistic: '+str(t_value))\n",
    "print('p value: '+str(p_value))"
   ]
  },
  {
   "cell_type": "markdown",
   "metadata": {},
   "source": [
    "### Plotting sampling distribution and critical region\n",
    "* The plots to show the sampling distribution and the critical regions for a test can be produced, by adapting the code we saw in the previous lab\n",
    "* let's demonstrate it for a one-sided z-test"
   ]
  },
  {
   "cell_type": "code",
   "execution_count": 12,
   "metadata": {},
   "outputs": [
    {
     "data": {
      "image/png": "[encoded data removed]",
      "text/plain": [
       "<Figure size 432x288 with 1 Axes>"
      ]
     },
     "metadata": {
      "needs_background": "light"
     },
     "output_type": "display_data"
    }
   ],
   "source": [
    "\n",
    "\n",
    "# values for which we compute the pdf of the sampling distribution\n",
    "x = np.arange(-4, 4, 0.001)\n",
    "\n",
    "# highlight the critical region for one-sided test at some level\n",
    "alpha = 0.02\n",
    "# sampling distribution under H_0\n",
    "sampl_dist = stats.norm\n",
    "\n",
    "# the critical value it z_alpha s.t. P(Z>=z_alpha)=alpha.\n",
    "# so using the ppf\n",
    "z_alpha = sampl_dist.ppf(1-alpha)\n",
    "# or, z_alpha = -sampl_dist.ppf(alpha)\n",
    "\n",
    "# selecting the points to fill using a Boolean condition.\n",
    "# i.e., selecting the points corresponding to the critical region\n",
    "highlight_cond = x >= z_alpha\n",
    "# the result is a Boolean array\n",
    "\n",
    "# first, plot the pdf for x\n",
    "y = sampl_dist.pdf(x)\n",
    "plt.plot(x, y)\n",
    "# then, fill the area based on highlight_cond\n",
    "plt.fill_between(x, 0, y, where=highlight_cond, facecolor='#ff3366')\n",
    "plt.show()"
   ]
  },
  {
   "cell_type": "markdown",
   "metadata": {},
   "source": [
    "## Binomial test\n",
    "* The exact inference for proportions using the binomial test can be done. \n",
    "* $H_0: p=p_0$; $H_a: p \\neq p_0$; statistic: $n\\hat{p}$; sampl. distr.: $B(n,p_0)$\n",
    "* It can be done \"manually\"!"
   ]
  },
  {
   "cell_type": "code",
   "execution_count": 13,
   "metadata": {},
   "outputs": [
    {
     "name": "stdout",
     "output_type": "stream",
     "text": [
      "sample proportion is 0.1\n",
      "p value of binomial test is: 1.5555659316780433e-06\n"
     ]
    }
   ],
   "source": [
    "# let's consider the previous example\n",
    "prop_below_18 = np.mean(df_murders_sample.age<18)\n",
    "print('sample proportion is '+str(prop_below_18))\n",
    "\n",
    "# we want to do HT about the proportion of victims under 18\n",
    "# assume H_0: p=0.3 and H_a: p<0.3\n",
    "\n",
    "# the p-value is given by the probability of observing a more extreme test statistic,\n",
    "# so a lower number of victims under 18 in our sample. \n",
    "# The probability is computed w.r.t. the H_0 distribution B(n,0.3)\n",
    "\n",
    "p_val_bin = stats.binom(n,0.3).cdf(n*prop_below_18)\n",
    "print('p value of binomial test is: '+str(p_val_bin))"
   ]
  },
  {
   "cell_type": "markdown",
   "metadata": {},
   "source": [
    "Or could be done using, `scipy.stats`'s `binom_test` function (or `statsmodels`'s `binom_test`). See below"
   ]
  },
  {
   "cell_type": "code",
   "execution_count": 14,
   "metadata": {},
   "outputs": [
    {
     "name": "stdout",
     "output_type": "stream",
     "text": [
      "p value of binomial test is: 1.5555659316780433e-06\n"
     ]
    }
   ],
   "source": [
    "# binom_test of scipy.stats takes in input the test statistic (number of successes), number of trials, and p_0\n",
    "# alternative param is one of two-sided’, ‘greater’, ‘less’\n",
    "p_val_bin = stats.binom_test(x=n*prop_below_18, n=n, p=0.3, alternative='less')\n",
    "print('p value of binomial test is: '+str(p_val_bin))\n",
    "# for the statsmodels version, see https://www.statsmodels.org/dev/generated/statsmodels.stats.proportion.binom_test.html"
   ]
  },
  {
   "cell_type": "markdown",
   "metadata": {},
   "source": [
    "### Binomial confidence intervals\n",
    "* For proportions, computing _precise_ intervals, that don't rely on normal approx.\n",
    "* using the binomial distribution, noting that $n\\hat{p}\\sim B(n,p)$\n",
    "    * However, we don't know $p$, and using $B(n,\\hat{p})$ would be an approximation\n",
    "* `statsmodels`'s `proportion_confint' function allows to select different methods from the normal, including the method based on inverting the Binomial test\n",
    "    * Recall that we can construct a CI from a test by \"collecting\" all the $H_0$ values that are not rejected by the test\n",
    "    * In our case, these are all the $p_0$ values such that $n\\hat{p}$ falls in the acceptance region of $B(n,p_0)$"
   ]
  },
  {
   "cell_type": "code",
   "execution_count": null,
   "metadata": {},
   "outputs": [],
   "source": [
    "# The function 'proportion_confint' takes in input:\n",
    "# count, nobs, alpha=0.05, method\n",
    "# by default, method is 'normal' (normal approx)\n",
    "# here using 'binom_test' (for inversion of binomial test)\n",
    "# see https://www.statsmodels.org/dev/generated/statsmodels.stats.proportion.proportion_confint.html\n",
    "sm.stats.proportion_confint(\n",
    "    count=n*prop_below_18, nobs=n, alpha=alpha, method='binom_test')"
   ]
  },
  {
   "cell_type": "code",
   "execution_count": null,
   "metadata": {},
   "outputs": [],
   "source": []
  }
 ],
 "metadata": {
  "kernelspec": {
   "display_name": "Python 3 (ipykernel)",
   "language": "python",
   "name": "python3"
  },
  "language_info": {
   "codemirror_mode": {
    "name": "ipython",
    "version": 3
   },
   "file_extension": ".py",
   "mimetype": "text/x-python",
   "name": "python",
   "nbconvert_exporter": "python",
   "pygments_lexer": "ipython3",
   "version": "3.9.7"
  }
 },
 "nbformat": 4,
 "nbformat_minor": 2
}
